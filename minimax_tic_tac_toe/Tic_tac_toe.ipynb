{
 "cells": [
  {
   "cell_type": "markdown",
   "metadata": {},
   "source": [
    "## Making a game class to Interact"
   ]
  },
  {
   "cell_type": "code",
   "execution_count": 1,
   "metadata": {},
   "outputs": [],
   "source": [
    "class MinimaxAgent:\n",
    "    def __init__( self, game_state= None ):\n",
    "        self.initialize_game(game_state)\n",
    "\n",
    "    def initialize_game(self,game_state):\n",
    "        self.current_state = [['.','.','.'],\n",
    "                              ['.','.','.'],\n",
    "                              ['.','.','.']]\n",
    "        \n",
    "        ## player lay deko position\n",
    "        if game_state:\n",
    "            self.current_state = game_state\n",
    "\n",
    "        # Player X always plays first\n",
    "        self.player_turn = 'X'\n",
    "        \n",
    "        self.diagonal_positions = [(0,4,8) , (2,4,6) ]\n",
    "        \n",
    "        self.diagonal_coords = [ list(map(  get_state,j )) for j in self.diagonal_positions ]\n",
    "        \n",
    "#         print(self.diagonal_coords)\n",
    "        \n",
    "    \n",
    "    def end_state(self):\n",
    "        \"\"\"\n",
    "        Game ends if :\n",
    "        1) if same symbol crosses againsts vertically, horizontall, diagonally\n",
    "        2) if no more to fill\n",
    "        \"\"\"\n",
    "        \n",
    "        ## check vertical crosses   \n",
    "        if any( ( self.current_state[0][i] == self.current_state[1][i] == self.current_state[2][i]  == 'X' ) for i in range(3)  ) :\n",
    "            return 'X'\n",
    "        if any( ( self.current_state[0][i] == self.current_state[1][i] == self.current_state[2][i]  == 'O' ) for i in range(3)  ) :\n",
    "            return 'O'\n",
    "         \n",
    "        ## check horizontal crosses\n",
    "        if any( self.current_state[i] == ['X','X','X'] for i in range(3) ):\n",
    "            return 'X'\n",
    "        if any( self.current_state[i] == ['O','O','O'] for i in range(3) ):\n",
    "            return 'O'\n",
    "\n",
    "        \n",
    "        ## check diagonal cases\n",
    "        for i in self.diagonal_coords:\n",
    "            x = [self.current_state[r][c]  for r,c in i]\n",
    "            if x.count(x[0]) == len(x) and x[0] != '.':\n",
    "                return self.current_state[1][1]\n",
    "        \n",
    "        \n",
    "        ## check if any remaining position for AI to move\n",
    "        if '.' not in [i for j in self.current_state for i in j]:\n",
    "            return 'Tie'\n",
    "        \n",
    "        return False\n",
    "\n",
    "    \n",
    "\n",
    "    def draw_board(self):\n",
    "        for i in range(0, 3):\n",
    "            for j in range(0, 3):\n",
    "                print('{}|'.format(self.current_state[i][j]), end=\" \")\n",
    "            print()\n",
    "        print()\n",
    "        \n",
    "def get_state(state_index):\n",
    "    row = state_index % 3\n",
    "    col = state_index // 3\n",
    "    return (row,col)"
   ]
  },
  {
   "cell_type": "markdown",
   "metadata": {},
   "source": [
    "## SANITY CHECK IF IMPLEMENTATION IS CORRECT TILL NOW"
   ]
  },
  {
   "cell_type": "code",
   "execution_count": 35,
   "metadata": {},
   "outputs": [
    {
     "name": "stdout",
     "output_type": "stream",
     "text": [
      "WINNER IS :  O\n",
      ".| O| O| \n",
      "O| O| X| \n",
      ".| O| .| \n",
      "\n"
     ]
    }
   ],
   "source": [
    "import random\n",
    "import string\n",
    "\n",
    "while True:\n",
    "    test_g = [ random.choice(['X','O','.']) for i in range(9)]\n",
    "    test_g = [test_g[k:k+3] for k in range(0,9,3)]\n",
    "\n",
    "    a = MinimaxAgent(test_g)\n",
    "    end = a.end_state()\n",
    "    if end:\n",
    "        print('WINNER IS : ',end)\n",
    "        a.draw_board()\n",
    "        break"
   ]
  },
  {
   "cell_type": "code",
   "execution_count": null,
   "metadata": {},
   "outputs": [],
   "source": []
  }
 ],
 "metadata": {
  "kernelspec": {
   "display_name": "Python (atlas)",
   "language": "python",
   "name": "atlas"
  },
  "language_info": {
   "codemirror_mode": {
    "name": "ipython",
    "version": 3
   },
   "file_extension": ".py",
   "mimetype": "text/x-python",
   "name": "python",
   "nbconvert_exporter": "python",
   "pygments_lexer": "ipython3",
   "version": "3.6.10"
  }
 },
 "nbformat": 4,
 "nbformat_minor": 4
}
